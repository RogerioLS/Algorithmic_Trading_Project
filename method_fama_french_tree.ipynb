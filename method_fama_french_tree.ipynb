{
 "cells": [
  {
   "cell_type": "code",
   "execution_count": null,
   "metadata": {},
   "outputs": [],
   "source": [
    "### Modelos de Fatores de Fama-French\n",
    "\n",
    "Fama e French em uma "
   ]
  }
 ],
 "metadata": {
  "kernelspec": {
   "display_name": "mba_wed_scraping",
   "language": "python",
   "name": "python3"
  },
  "language_info": {
   "name": "python",
   "version": "3.10.13"
  }
 },
 "nbformat": 4,
 "nbformat_minor": 2
}
