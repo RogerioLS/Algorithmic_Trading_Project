{
 "cells": [
  {
   "cell_type": "markdown",
   "metadata": {},
   "source": [
    "### Modelos de Fatores de Fama-French\n",
    "\n",
    "Fama e French em uma séries de artigos no início dos anos 1990, estabeleceram as bases de um modelo de índices múltiplos baseados em caracteríscas da empresa.\n",
    "\n",
    "A ideia foi verificar que além do risco de mercado geral, tanto o tamanho (capitalização de mercado) quanto a razão entre o valor contábil da ação e o seu valor de mercado têm um papel importante na determinação do retorno médio de ações.\n",
    "\n",
    "Verificaram que os retornos médios das ações são negativamente relacionado com o tamanho e positivamente relacionado com a razão valor contábil/valor de mercado.\n",
    "\n",
    "Em termos simples, empresas pequenas e empresas em que razão entre o valor contábil e o valor de mercado da ação é baixo são mais arricadas.\n",
    "\n",
    "#### Como verificar a relação?"
   ]
  }
 ],
 "metadata": {
  "kernelspec": {
   "display_name": "mba_wed_scraping",
   "language": "python",
   "name": "python3"
  },
  "language_info": {
   "name": "python",
   "version": "3.10.13"
  }
 },
 "nbformat": 4,
 "nbformat_minor": 2
}
