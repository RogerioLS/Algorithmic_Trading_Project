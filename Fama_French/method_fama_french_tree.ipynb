{
 "cells": [
  {
   "cell_type": "markdown",
   "metadata": {},
   "source": [
    "### Modelos de Fatores de Fama-French\n",
    "\n",
    "Fama e French em uma séries de artigos no início dos anos 1990, estabeleceram as bases de um modelo de índices múltiplos baseados em caracteríscas da empresa.\n",
    "\n",
    "A ideia foi verificar que além do risco de mercado geral, tanto o tamanho (capitalização de mercado) quanto a razão entre o valor contábil da ação e o seu valor de mercado têm um papel importante na determinação do retorno médio de ações.\n",
    "\n",
    "Verificaram que os retornos médios das ações são negativamente relacionado com o tamanho e positivamente relacionado com a razão valor contábil/valor de mercado.\n",
    "\n",
    "Em termos simples, empresas pequenas e empresas em que razão entre o valor contábil e o valor de mercado da ação é baixo são mais arricadas.\n",
    "\n",
    "#### Como verificar a relação?\n",
    "\n",
    "Séries de valor contábil da ação são divulgados, no máximo, quatro vezes por ano. Para testar hipóteses de séries de retornos, precisamos de um intervalo menor. Nesta condição, Fama e French formularam três índices para explicar o excesso de retorno das ações.\n",
    "\n",
    "Como assim índices? A ideia é a criação de carteiras teóricas em que os retornos imitem o impacto das variáveis de tamanho da empresa e valor contábil/valor de mercado. Ao criar carteiras com retornos pelo menos mensais, Fama e French convertem um conjunto de variáveis que não podem ser observados em intervalos frequentes em um conjunto de ativos que podem ser observados a intervalos de tempos frequentes.\n",
    "\n",
    "Portanto, houve a transformação de dados fundamentais de empresas em índices de retornos. Na prática essa transformação ocorreu da seguinte forma:\n",
    "\n",
    "#### SMB (Small Minus Big)\n",
    "\n",
    "<div class=\"admonition note alert alert-info\">\n",
    "<p class=\"first admonition-title\" style=\"font-weight: bold;\">Classificação por Tamanho</p>\n",
    "<p class=\"last\">Inicialmente, as empresas são classificadas com base em seu tamanho de mercado. Normalmente, o tamnho de mercado é medido pela capitalização de mercado, que é o preço da ação multiplicado pelo número de ações em circulação. As empresas são divididas em duas categorias: pequenas empresas e grandes empresas, definidas respectivamente np 10 e 90 percetil. Além disso, os pontos de corte da relação B/M para uma região são os percentis 30 e 70.</p>\n",
    "</div>"
   ]
  }
 ],
 "metadata": {
  "kernelspec": {
   "display_name": "mba_wed_scraping",
   "language": "python",
   "name": "python3"
  },
  "language_info": {
   "name": "python",
   "version": "3.10.13"
  }
 },
 "nbformat": 4,
 "nbformat_minor": 2
}
